{
 "cells": [
  {
   "cell_type": "code",
   "execution_count": 72,
   "metadata": {},
   "outputs": [],
   "source": [
    "from sklearn.datasets import make_classification\n",
    "x,y = make_classification(n_samples=1000,n_features=2,n_redundant=0,n_informative=1,n_clusters_per_class=1)"
   ]
  },
  {
   "cell_type": "code",
   "execution_count": 73,
   "metadata": {},
   "outputs": [
    {
     "data": {
      "text/plain": [
       "array([[ 0.72797442, -1.45440861],\n",
       "       [-2.37148789,  0.93287531],\n",
       "       [-0.73565305,  0.75562193],\n",
       "       ...,\n",
       "       [-2.09959202,  3.03248976],\n",
       "       [ 0.22131208, -0.07518171],\n",
       "       [-1.83092525,  0.4736152 ]])"
      ]
     },
     "execution_count": 73,
     "metadata": {},
     "output_type": "execute_result"
    }
   ],
   "source": [
    "x"
   ]
  },
  {
   "cell_type": "code",
   "execution_count": 74,
   "metadata": {},
   "outputs": [],
   "source": [
    "x_data_train = x[:800,:]\n",
    "y_data_train = y[:800]\n",
    "x_data_test = x[801:1000,:]\n",
    "y_data_test = y[801:1000]"
   ]
  },
  {
   "cell_type": "code",
   "execution_count": 75,
   "metadata": {},
   "outputs": [
    {
     "data": {
      "text/plain": [
       "array([[ 0.72797442, -1.45440861],\n",
       "       [-2.37148789,  0.93287531],\n",
       "       [-0.73565305,  0.75562193],\n",
       "       ...,\n",
       "       [-2.73903674,  2.58651178],\n",
       "       [-2.07714621, -0.85680294],\n",
       "       [ 1.40542613, -0.56213072]])"
      ]
     },
     "execution_count": 75,
     "metadata": {},
     "output_type": "execute_result"
    }
   ],
   "source": [
    "x_data_train"
   ]
  },
  {
   "cell_type": "code",
   "execution_count": 76,
   "metadata": {},
   "outputs": [],
   "source": [
    "positive_x1 = [x[i,0] for i in range(1000) if y[i]== 1]\n",
    "positive_x2 = [x[i,1] for i in range(1000) if y[i]== 1]\n",
    "\n",
    "negative_x1 = [x[i,0] for i in range(1000) if y[i]== 0]\n",
    "negative_x2 = [x[i,1] for i in range(1000) if y[i]== 0]\n"
   ]
  },
  {
   "cell_type": "code",
   "execution_count": 77,
   "metadata": {},
   "outputs": [
    {
     "name": "stdout",
     "output_type": "stream",
     "text": [
      "[[ 2.59713952 -1.24251512]]\n"
     ]
    }
   ],
   "source": [
    "from sklearn.linear_model import Perceptron\n",
    "clf = Perceptron()\n",
    "clf.fit(x_data_train,y_data_train)\n",
    "print(clf.coef_)"
   ]
  },
  {
   "cell_type": "code",
   "execution_count": 78,
   "metadata": {},
   "outputs": [
    {
     "name": "stdout",
     "output_type": "stream",
     "text": [
      "0.8442211055276382\n"
     ]
    }
   ],
   "source": [
    "s = clf.score(x_data_test,y_data_test)\n",
    "print(s)"
   ]
  },
  {
   "cell_type": "code",
   "execution_count": 79,
   "metadata": {},
   "outputs": [
    {
     "data": {
      "image/png": "[encoded data removed]",
      "text/plain": [
       "<Figure size 432x288 with 1 Axes>"
      ]
     },
     "metadata": {
      "needs_background": "light"
     },
     "output_type": "display_data"
    }
   ],
   "source": [
    "from matplotlib import pyplot as plt\n",
    "import numpy as np\n",
    "from mpl_toolkits.mplot3d import Axes3D\n",
    "plt.scatter(positive_x1,positive_x2,c='red')\n",
    "plt.scatter(negative_x1,negative_x2,c='blue')\n",
    "line_x = np.arange(-4,4)\n",
    "line_y = line_x*(-clf.coef_[0][0])/clf.coef_[0][1] - clf.intercept_\n",
    "plt.plot(line_x,line_y)\n",
    "plt.show()\n",
    "# //三维练习\n",
    "# fig1 = plt.figure()\n",
    "# ax = Axes3D(fig1)\n",
    "# X,Y,Z = np.mgrid[-2:2:40j,-2:2:40j,-2:2:40j]\n",
    "# ax.scatter3D(positive_x1,positive_x2,positive_x3,c='red')\n",
    "# ax.scatter3D(negative_x1,negative_x2,negative_x3,c='blue')"
   ]
  }
 ],
 "metadata": {
  "kernelspec": {
   "display_name": "Python [conda env:ml_env] *",
   "language": "python",
   "name": "conda-env-ml_env-py"
  },
  "language_info": {
   "codemirror_mode": {
    "name": "ipython",
    "version": 3
   },
   "file_extension": ".py",
   "mimetype": "text/x-python",
   "name": "python",
   "nbconvert_exporter": "python",
   "pygments_lexer": "ipython3",
   "version": "3.6.9"
  }
 },
 "nbformat": 4,
 "nbformat_minor": 2
}
