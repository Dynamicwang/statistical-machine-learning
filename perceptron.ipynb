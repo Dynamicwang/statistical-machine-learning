{
 "cells": [
  {
   "cell_type": "code",
   "execution_count": 206,
   "metadata": {},
   "outputs": [],
   "source": [
    "from sklearn.datasets import make_classification\n",
    "x,y = make_classification(n_samples=1000,n_features=2,n_redundant=0,n_informative=1,n_clusters_per_class=1)"
   ]
  },
  {
   "cell_type": "code",
   "execution_count": 207,
   "metadata": {},
   "outputs": [
    {
     "data": {
      "text/plain": [
       "array([[-2.22876909, -0.22377213],\n",
       "       [ 1.36603653, -0.64491224],\n",
       "       [-1.08586921, -0.4623974 ],\n",
       "       ...,\n",
       "       [-0.61097521, -1.32046193],\n",
       "       [ 0.39374313, -0.41698447],\n",
       "       [ 0.84365951, -0.92909196]])"
      ]
     },
     "execution_count": 207,
     "metadata": {},
     "output_type": "execute_result"
    }
   ],
   "source": [
    "x"
   ]
  },
  {
   "cell_type": "code",
   "execution_count": 208,
   "metadata": {},
   "outputs": [],
   "source": [
    "x_data_train = x[:700,:]\n",
    "y_data_train = y[:700]\n",
    "x_data_test = x[700:1000,:]\n",
    "y_data_test = y[700:1000]"
   ]
  },
  {
   "cell_type": "code",
   "execution_count": 209,
   "metadata": {},
   "outputs": [
    {
     "data": {
      "text/plain": [
       "array([[-2.22876909, -0.22377213],\n",
       "       [ 1.36603653, -0.64491224],\n",
       "       [-1.08586921, -0.4623974 ],\n",
       "       ...,\n",
       "       [-1.78204475,  2.00682341],\n",
       "       [-1.16878522,  1.65095919],\n",
       "       [-0.09671544,  1.43192148]])"
      ]
     },
     "execution_count": 209,
     "metadata": {},
     "output_type": "execute_result"
    }
   ],
   "source": [
    "x_data_train"
   ]
  },
  {
   "cell_type": "code",
   "execution_count": 210,
   "metadata": {},
   "outputs": [],
   "source": [
    "positive_x1 = [x[i,0] for i in range(1000) if y[i]== 1]\n",
    "positive_x2 = [x[i,1] for i in range(1000) if y[i]== 1]\n",
    "negative_x1 = [x[i,0] for i in range(1000) if y[i]== 0]\n",
    "negative_x2 = [x[i,1] for i in range(1000) if y[i]== 0]"
   ]
  },
  {
   "cell_type": "code",
   "execution_count": 211,
   "metadata": {},
   "outputs": [
    {
     "name": "stdout",
     "output_type": "stream",
     "text": [
      "[[-0.50001183  1.89159624]]\n"
     ]
    }
   ],
   "source": [
    "from sklearn.linear_model import Perceptron\n",
    "clf = Perceptron()\n",
    "clf.fit(x_data_train,y_data_train)\n",
    "print(clf.coef_)"
   ]
  },
  {
   "cell_type": "code",
   "execution_count": 212,
   "metadata": {},
   "outputs": [
    {
     "name": "stdout",
     "output_type": "stream",
     "text": [
      "0.8285714285714286\n"
     ]
    }
   ],
   "source": [
    "s = clf.score(x_data_train,y_data_train)\n",
    "print(s)"
   ]
  },
  {
   "cell_type": "code",
   "execution_count": 213,
   "metadata": {},
   "outputs": [
    {
     "data": {
      "image/png": "[encoded data removed]",
      "text/plain": [
       "<Figure size 432x288 with 1 Axes>"
      ]
     },
     "metadata": {
      "needs_background": "light"
     },
     "output_type": "display_data"
    }
   ],
   "source": [
    "from matplotlib import pyplot as plt\n",
    "import numpy as np\n",
    "from mpl_toolkits.mplot3d import Axes3D\n",
    "plt.scatter(positive_x1,positive_x2,c='red')\n",
    "plt.scatter(negative_x1,negative_x2,c='blue')\n",
    "line_x = np.arange(-4,4)\n",
    "line_y = line_x*(-clf.coef_[0][0])/clf.coef_[0][1] - clf.intercept_\n",
    "plt.plot(line_x,line_y)\n",
    "plt.show()\n",
    "# //三维练习\n",
    "# fig1 = plt.figure()\n",
    "# ax = Axes3D(fig1)\n",
    "# X,Y,Z = np.mgrid[-2:2:40j,-2:2:40j,-2:2:40j]\n",
    "# ax.scatter3D(positive_x1,positive_x2,positive_x3,c='red')\n",
    "# ax.scatter3D(negative_x1,negative_x2,negative_x3,c='blue')"
   ]
  }
 ],
 "metadata": {
  "kernelspec": {
   "display_name": "Python [conda env:ml_env] *",
   "language": "python",
   "name": "conda-env-ml_env-py"
  },
  "language_info": {
   "codemirror_mode": {
    "name": "ipython",
    "version": 3
   },
   "file_extension": ".py",
   "mimetype": "text/x-python",
   "name": "python",
   "nbconvert_exporter": "python",
   "pygments_lexer": "ipython3",
   "version": "3.6.9"
  }
 },
 "nbformat": 4,
 "nbformat_minor": 2
}
