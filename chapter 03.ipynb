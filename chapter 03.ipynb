{
 "cells": [
  {
   "cell_type": "code",
   "execution_count": 1,
   "metadata": {},
   "outputs": [],
   "source": [
    "#第三章 K近邻法\n",
    "#K近邻模型的三个基本要素:距离度量、K值的选择、分类决策规则决定\n",
    "#距离度量:特征空间X是n维实数向量空间R^n，Xi，Xj属于R^n。Xi=(xi1,xi2,。。。，xin)，Xj=(xj1,xj2,。。。，xjn) Xi，Xj的距离Lp定义为:\n",
    "#Lp(Xi，Xj)=((l=1~n)sum(abs(xil-xjl)^p))^(1/p)   p>=1\n",
    "#p=1，曼哈顿距离\n",
    "#p=2，欧式距离\n",
    "#p=无穷，各个坐标距离的最大值，即输入特征向量各个维的差值的最大值  切比雪夫距离"
   ]
  },
  {
   "cell_type": "code",
   "execution_count": 2,
   "metadata": {},
   "outputs": [],
   "source": [
    "import math"
   ]
  },
  {
   "cell_type": "code",
   "execution_count": 54,
   "metadata": {},
   "outputs": [],
   "source": [
    "def L(x,y,p=2):\n",
    "    if len(x) == len(y) and len(x) > 1:\n",
    "        sum = 0\n",
    "        for i in range(len(x)):\n",
    "            sum += math.pow(abs(x[i]-y[i]),p)\n",
    "        return math.pow(sum,1/p)\n",
    "    else:\n",
    "        return 0"
   ]
  },
  {
   "cell_type": "code",
   "execution_count": 55,
   "metadata": {},
   "outputs": [
    {
     "name": "stdout",
     "output_type": "stream",
     "text": [
      "4.0\n",
      "4.242640687119285\n",
      "3.1622776601683795\n"
     ]
    },
    {
     "data": {
      "image/png": "[encoded data removed]",
      "text/plain": [
       "<Figure size 432x288 with 1 Axes>"
      ]
     },
     "metadata": {
      "needs_background": "light"
     },
     "output_type": "display_data"
    }
   ],
   "source": [
    "import matplotlib.pyplot as plt\n",
    "x1 = [1,1]\n",
    "x2 = [5,1]\n",
    "x3 = [4,4]\n",
    "print(L(x1,x2))\n",
    "print(L(x1,x3))\n",
    "print(L(x2,x3))\n",
    "plt.scatter([x1[0],x2[0],x3[0]],[x1[1],x2[1],x3[1]])\n",
    "plt.plot([x1[0],x2[0]],[x1[1],x2[1]])\n",
    "plt.plot([x3[0],x2[0]],[x3[1],x2[1]])\n",
    "plt.plot([x1[0],x3[0]],[x1[1],x3[1]])\n",
    "plt.show()"
   ]
  },
  {
   "cell_type": "code",
   "execution_count": 63,
   "metadata": {},
   "outputs": [],
   "source": [
    "import numpy as np\n",
    "from sklearn.datasets import load_iris"
   ]
  },
  {
   "cell_type": "code",
   "execution_count": 73,
   "metadata": {},
   "outputs": [
    {
     "data": {
      "text/plain": [
       "[[2.9999999999999996, 0],\n",
       " [2.9983328701129897, 0],\n",
       " [3.1464265445104544, 0],\n",
       " [2.9966648127543394, 0],\n",
       " [3.036445290137795, 0],\n",
       " [2.7239676943752467, 0],\n",
       " [3.074085229787879, 0],\n",
       " [2.913760456866693, 0],\n",
       " [3.1543620591175006, 0],\n",
       " [2.949576240750525, 0],\n",
       " [2.91547594742265, 0],\n",
       " [2.8740215726399825, 0],\n",
       " [3.0610455730027932, 0],\n",
       " [3.4828149534535995, 0],\n",
       " [3.264965543462901, 0],\n",
       " [3.0886890422961, 0],\n",
       " [3.082207001484488, 0],\n",
       " [2.9647934160747185, 0],\n",
       " [2.7221315177632395, 0],\n",
       " [2.9410882339705484, 0],\n",
       " [2.677685567799176, 0],\n",
       " [2.882707061079915, 0],\n",
       " [3.4899856733230292, 0],\n",
       " [2.5961509971494334, 0],\n",
       " [2.61725046566048, 0],\n",
       " [2.796426290821912, 0],\n",
       " [2.7531799795872405, 0],\n",
       " [2.8948229652260253, 0],\n",
       " [2.9698484809834995, 0],\n",
       " [2.8827070610799144, 0],\n",
       " [2.8478061731796283, 0],\n",
       " [2.7874719729532704, 0],\n",
       " [3.093541659651603, 0],\n",
       " [3.1543620591175006, 0],\n",
       " [2.910326442171049, 0],\n",
       " [3.1654383582688825, 0],\n",
       " [3.0512292604784714, 0],\n",
       " [3.0951575081084317, 0],\n",
       " [3.2388269481403293, 0],\n",
       " [2.8948229652260253, 0],\n",
       " [3.0740852297878796, 0],\n",
       " [3.246536616149585, 0],\n",
       " [3.24499614791759, 0],\n",
       " [2.7110883423451915, 0],\n",
       " [2.5573423705088842, 0],\n",
       " [2.9883105594967865, 0],\n",
       " [2.8896366553599777, 0],\n",
       " [3.0886890422961, 0],\n",
       " [2.924038303442689, 0],\n",
       " [2.991655060330318, 0],\n",
       " [1.5394804318340658, 1],\n",
       " [0.9380831519646867, 1],\n",
       " [1.5427248620541523, 1],\n",
       " [0.7141428428542851, 1],\n",
       " [1.0677078252031313, 1],\n",
       " [0.4582575694955845, 1],\n",
       " [1.0148891565092224, 1],\n",
       " [1.2569805089976531, 1],\n",
       " [1.1224972160321824, 1],\n",
       " [0.5477225575051655, 1],\n",
       " [1.345362404707371, 1],\n",
       " [0.37416573867739483, 1],\n",
       " [0.9486832980505138, 1],\n",
       " [0.7937253933193776, 1],\n",
       " [0.5099019513592781, 1],\n",
       " [1.1489125293076063, 1],\n",
       " [0.4472135954999582, 1],\n",
       " [0.469041575982343, 1],\n",
       " [1.0954451150103326, 1],\n",
       " [0.5744562646538027, 1],\n",
       " [0.9327379053088819, 1],\n",
       " [0.5477225575051662, 1],\n",
       " [1.191637528781299, 1],\n",
       " [0.8124038404635965, 1],\n",
       " [0.8306623862918082, 1],\n",
       " [1.0488088481701519, 1],\n",
       " [1.4071247279470291, 1],\n",
       " [1.4764823060233405, 1],\n",
       " [0.6082762530298225, 1],\n",
       " [0.7874007874011809, 1],\n",
       " [0.7071067811865475, 1],\n",
       " [0.7874007874011809, 1],\n",
       " [0.4242640687119284, 1],\n",
       " [1.1575836902790226, 1],\n",
       " [0.4898979485566356, 1],\n",
       " [0.7549834435270754, 1],\n",
       " [1.2727922061357864, 1],\n",
       " [1.0344080432788605, 1],\n",
       " [0.5196152422706631, 1],\n",
       " [0.5196152422706635, 1],\n",
       " [0.714142842854285, 1],\n",
       " [0.46904157598234286, 1],\n",
       " [1.2569805089976533, 1],\n",
       " [0.31622776601683794, 1],\n",
       " [0.1732050807568884, 1],\n",
       " [0.1732050807568884, 1],\n",
       " [0.6403124237432855, 1],\n",
       " [1.3228756555322951, 1],\n",
       " [0.22360679774997935, 1],\n",
       " [2.3727621035409348, 2],\n",
       " [1.2206555615733703, 2],\n",
       " [2.47588368062799, 2],\n",
       " [1.7320508075688774, 2],\n",
       " [2.1236760581595306, 2],\n",
       " [3.3000000000000003, 2],\n",
       " [1.0295630140986995, 2],\n",
       " [2.8266588050205144, 2],\n",
       " [2.144761058952722, 2],\n",
       " [2.891366458960192, 2],\n",
       " [1.5297058540778357, 2],\n",
       " [1.590597372058687, 2],\n",
       " [2.0099751242241783, 2],\n",
       " [1.2489995996796799, 2],\n",
       " [1.5132745950421556, 2],\n",
       " [1.7663521732655696, 2],\n",
       " [1.7378147196982772, 2],\n",
       " [3.552463933666323, 2],\n",
       " [3.6619666847201118, 2],\n",
       " [1.2845232578665131, 2],\n",
       " [2.3000000000000007, 2],\n",
       " [1.0816653826391973, 2],\n",
       " [3.420526275297415, 2],\n",
       " [1.2124355652982146, 2],\n",
       " [2.1213203435596433, 2],\n",
       " [2.5416530054277673, 2],\n",
       " [1.0677078252031316, 2],\n",
       " [1.0677078252031316, 2],\n",
       " [1.8894443627691186, 2],\n",
       " [2.3537204591879646, 2],\n",
       " [2.764054992217051, 2],\n",
       " [3.4219877264537355, 2],\n",
       " [1.9339079605813718, 2],\n",
       " [1.252996408614167, 2],\n",
       " [1.6340134638368191, 2],\n",
       " [3.0675723300355937, 2],\n",
       " [2.0273134932713295, 2],\n",
       " [1.6911534525287768, 2],\n",
       " [0.9486832980505141, 2],\n",
       " [2.0074859899884743, 2],\n",
       " [2.1633307652783937, 2],\n",
       " [1.9235384061671348, 2],\n",
       " [1.2206555615733703, 2],\n",
       " [2.39165214862028, 2],\n",
       " [2.3021728866442683, 2],\n",
       " [1.8493242008906934, 2],\n",
       " [1.3820274961085255, 2],\n",
       " [1.5842979517754865, 2],\n",
       " [1.7916472867168922, 2],\n",
       " [1.1575836902790229, 2]]"
      ]
     },
     "execution_count": 73,
     "metadata": {},
     "output_type": "execute_result"
    }
   ],
   "source": [
    "iris = load_iris()\n",
    "targets = iris.target\n",
    "i = np.random.randint(0,len(iris.data))\n",
    "iris.data[i,:]\n",
    "Ls = []\n",
    "for j in range(0,len(iris.data)):\n",
    "    if not j==i:\n",
    "        temp = [L(iris.data[i,:],iris.data[j,:]),targets[j]]\n",
    "        Ls.append(temp)\n",
    "    else:\n",
    "        pass\n",
    "Ls"
   ]
  }
 ],
 "metadata": {
  "kernelspec": {
   "display_name": "Python 3",
   "language": "python",
   "name": "python3"
  },
  "language_info": {
   "codemirror_mode": {
    "name": "ipython",
    "version": 3
   },
   "file_extension": ".py",
   "mimetype": "text/x-python",
   "name": "python",
   "nbconvert_exporter": "python",
   "pygments_lexer": "ipython3",
   "version": "3.7.5"
  }
 },
 "nbformat": 4,
 "nbformat_minor": 2
}
