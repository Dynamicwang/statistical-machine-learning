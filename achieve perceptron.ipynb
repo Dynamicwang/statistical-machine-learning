{
 "cells": [
  {
   "cell_type": "code",
   "execution_count": 1,
   "metadata": {},
   "outputs": [],
   "source": [
    "from random import randint\n",
    "import numpy as np\n",
    "import matplotlib.pyplot as plt"
   ]
  },
  {
   "cell_type": "code",
   "execution_count": 13,
   "metadata": {},
   "outputs": [],
   "source": [
    "class TrainDataLoader:\n",
    "    def __init__(self):\n",
    "        pass\n",
    "    \n",
    "    def GenerateRandomData(self,count,gradient,offset):\n",
    "        x1 = np.linspace(1,5,count)\n",
    "        x2 = gradient*x1 + np.random.randint(-10,10,*x1.shape) + offset\n",
    "        dataset = []\n",
    "        y = []\n",
    "        for i in range(*x1.shape):\n",
    "            dataset.append([x1[i],x2[i]])\n",
    "            real_value = gradient * x1[i] + offset\n",
    "            if real_value > x2[i]:\n",
    "                y.append(-1)\n",
    "            else:\n",
    "                y.append(1)\n",
    "        return x1,x2,np.mat(y),np.mat(dataset)"
   ]
  },
  {
   "cell_type": "code",
   "execution_count": 14,
   "metadata": {},
   "outputs": [],
   "source": [
    "train_data = TrainDataLoader()\n",
    "x,y,result,train_data = train_data.GenerateRandomData(10,2,10)"
   ]
  },
  {
   "cell_type": "code",
   "execution_count": 15,
   "metadata": {},
   "outputs": [
    {
     "data": {
      "text/plain": [
       "array([1.        , 1.44444444, 1.88888889, 2.33333333, 2.77777778,\n",
       "       3.22222222, 3.66666667, 4.11111111, 4.55555556, 5.        ])"
      ]
     },
     "execution_count": 15,
     "metadata": {},
     "output_type": "execute_result"
    }
   ],
   "source": [
    "x"
   ]
  },
  {
   "cell_type": "code",
   "execution_count": 16,
   "metadata": {},
   "outputs": [
    {
     "data": {
      "text/plain": [
       "array([ 2.        ,  6.88888889, 13.77777778, 21.66666667,  7.55555556,\n",
       "        6.44444444, 21.33333333, 12.22222222, 14.11111111, 18.        ])"
      ]
     },
     "execution_count": 16,
     "metadata": {},
     "output_type": "execute_result"
    }
   ],
   "source": [
    "y"
   ]
  },
  {
   "cell_type": "code",
   "execution_count": 17,
   "metadata": {},
   "outputs": [
    {
     "data": {
      "text/plain": [
       "matrix([[-1, -1,  1,  1, -1, -1,  1, -1, -1, -1]])"
      ]
     },
     "execution_count": 17,
     "metadata": {},
     "output_type": "execute_result"
    }
   ],
   "source": [
    "result"
   ]
  },
  {
   "cell_type": "code",
   "execution_count": 18,
   "metadata": {},
   "outputs": [
    {
     "data": {
      "text/plain": [
       "matrix([[ 1.        ,  2.        ],\n",
       "        [ 1.44444444,  6.88888889],\n",
       "        [ 1.88888889, 13.77777778],\n",
       "        [ 2.33333333, 21.66666667],\n",
       "        [ 2.77777778,  7.55555556],\n",
       "        [ 3.22222222,  6.44444444],\n",
       "        [ 3.66666667, 21.33333333],\n",
       "        [ 4.11111111, 12.22222222],\n",
       "        [ 4.55555556, 14.11111111],\n",
       "        [ 5.        , 18.        ]])"
      ]
     },
     "execution_count": 18,
     "metadata": {},
     "output_type": "execute_result"
    }
   ],
   "source": [
    "train_data"
   ]
  },
  {
   "cell_type": "code",
   "execution_count": 24,
   "metadata": {},
   "outputs": [
    {
     "data": {
      "text/plain": [
       "14"
      ]
     },
     "execution_count": 24,
     "metadata": {},
     "output_type": "execute_result"
    }
   ],
   "source": [
    "a = np.array([1,2,3])\n",
    "b = np.array([1,2,3])\n",
    "np.dot(a,b.T)"
   ]
  },
  {
   "cell_type": "code",
   "execution_count": null,
   "metadata": {},
   "outputs": [],
   "source": [
    "class Perceptron_hand:\n",
    "    def __init__(self,train_data=[],real_result=[],eta=1):\n",
    "        self.w = np.zeros([1,len(train_data.T)],int)\n",
    "        self.b = 0\n",
    "        slef.eta = eta\n",
    "        self.train_data = train_data\n",
    "        self.real_result = real_result\n",
    "    def normalize(self,x):\n",
    "        if x > 0:\n",
    "            return 1;\n",
    "        else:\n",
    "            return -1\n",
    "    def model(self,x):\n",
    "        y = np.dot(x,self.w.T) +self.b\n",
    "        predict_v = self.normalize(y)\n",
    "        return predict_v,y\n",
    "    def update(self,x,y):\n",
    "        self.w = self.w + self.eta*y*x\n",
    "        self.b = self.b + self.eta*y"
   ]
  }
 ],
 "metadata": {
  "kernelspec": {
   "display_name": "Python [conda env:ml_env] *",
   "language": "python",
   "name": "conda-env-ml_env-py"
  },
  "language_info": {
   "codemirror_mode": {
    "name": "ipython",
    "version": 3
   },
   "file_extension": ".py",
   "mimetype": "text/x-python",
   "name": "python",
   "nbconvert_exporter": "python",
   "pygments_lexer": "ipython3",
   "version": "3.6.9"
  }
 },
 "nbformat": 4,
 "nbformat_minor": 2
}
