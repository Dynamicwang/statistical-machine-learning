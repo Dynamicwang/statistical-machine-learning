{
 "cells": [
  {
   "cell_type": "code",
   "execution_count": 2,
   "metadata": {},
   "outputs": [],
   "source": [
    "from random import randint\n",
    "import numpy as np\n",
    "import matplotlib.pyplot as plt"
   ]
  },
  {
   "cell_type": "code",
   "execution_count": 3,
   "metadata": {},
   "outputs": [],
   "source": [
    "class TrainDataLoader:\n",
    "    def __init__(self):\n",
    "        pass\n",
    "    \n",
    "    def GenerateRandomData(self,count,gradient,offset):\n",
    "        x1 = np.linspace(1,5,count)\n",
    "        x2 = gradient*x1 + np.random.randint(-10,10,*x1.shape) + offset\n",
    "        dataset = []\n",
    "        y = []\n",
    "        for i in range(*x1.shape):\n",
    "            dataset.append([x1[i],x2[i]])\n",
    "            real_value = gradient * x1[i] + offset\n",
    "            if real_value > x2[i]:\n",
    "                y.append(-1)\n",
    "            else:\n",
    "                y.append(1)\n",
    "        return x1,x2,np.mat(y),np.mat(dataset)"
   ]
  },
  {
   "cell_type": "code",
   "execution_count": 4,
   "metadata": {},
   "outputs": [],
   "source": [
    "train_data = TrainDataLoader()\n",
    "x,y,result,train_data = train_data.GenerateRandomData(10,2,10)"
   ]
  },
  {
   "cell_type": "code",
   "execution_count": 5,
   "metadata": {},
   "outputs": [
    {
     "data": {
      "text/plain": [
       "array([1.        , 1.44444444, 1.88888889, 2.33333333, 2.77777778,\n",
       "       3.22222222, 3.66666667, 4.11111111, 4.55555556, 5.        ])"
      ]
     },
     "execution_count": 5,
     "metadata": {},
     "output_type": "execute_result"
    }
   ],
   "source": [
    "x"
   ]
  },
  {
   "cell_type": "code",
   "execution_count": 6,
   "metadata": {},
   "outputs": [
    {
     "data": {
      "text/plain": [
       "array([20.        , 11.88888889,  5.77777778, 10.66666667, 14.55555556,\n",
       "       19.44444444,  8.33333333, 16.22222222, 10.11111111, 19.        ])"
      ]
     },
     "execution_count": 6,
     "metadata": {},
     "output_type": "execute_result"
    }
   ],
   "source": [
    "y"
   ]
  },
  {
   "cell_type": "code",
   "execution_count": 7,
   "metadata": {},
   "outputs": [
    {
     "data": {
      "text/plain": [
       "matrix([[ 1, -1, -1, -1, -1,  1, -1, -1, -1, -1]])"
      ]
     },
     "execution_count": 7,
     "metadata": {},
     "output_type": "execute_result"
    }
   ],
   "source": [
    "result"
   ]
  },
  {
   "cell_type": "code",
   "execution_count": 8,
   "metadata": {},
   "outputs": [
    {
     "data": {
      "text/plain": [
       "matrix([[ 1.        , 20.        ],\n",
       "        [ 1.44444444, 11.88888889],\n",
       "        [ 1.88888889,  5.77777778],\n",
       "        [ 2.33333333, 10.66666667],\n",
       "        [ 2.77777778, 14.55555556],\n",
       "        [ 3.22222222, 19.44444444],\n",
       "        [ 3.66666667,  8.33333333],\n",
       "        [ 4.11111111, 16.22222222],\n",
       "        [ 4.55555556, 10.11111111],\n",
       "        [ 5.        , 19.        ]])"
      ]
     },
     "execution_count": 8,
     "metadata": {},
     "output_type": "execute_result"
    }
   ],
   "source": [
    "train_data"
   ]
  },
  {
   "cell_type": "code",
   "execution_count": 10,
   "metadata": {},
   "outputs": [
    {
     "data": {
      "text/plain": [
       "array([1, 2, 3])"
      ]
     },
     "execution_count": 10,
     "metadata": {},
     "output_type": "execute_result"
    }
   ],
   "source": [
    "fx = np.array([1.2,2.3,3.3])\n",
    "fx.astype(int)"
   ]
  },
  {
   "cell_type": "code",
   "execution_count": 15,
   "metadata": {},
   "outputs": [],
   "source": [
    "class Perceptron_hand:\n",
    "    def __init__(self,train_data=[],real_result=[],eta=1):\n",
    "        self.w = np.zeros([1,len(train_data.T)],int)\n",
    "        self.b = 0\n",
    "        self.eta = eta\n",
    "        self.train_data = train_data\n",
    "        self.real_result = real_result\n",
    "    def normalize(self,x):\n",
    "        if x > 0:\n",
    "            return 1;\n",
    "        else:\n",
    "            return -1\n",
    "    def model(self,x):\n",
    "        y = np.dot(x,self.w.T) +self.b\n",
    "        predict_v = self.normalize(y)\n",
    "        return predict_v,y\n",
    "    def update(self,x,y):\n",
    "        self.w = self.w + self.eta*y*x\n",
    "        self.b = self.b + self.eta*y\n",
    "    def loss(self,fx,y):\n",
    "        return fx.astype(int)*y\n",
    "    def train(self,count):\n",
    "        update_count = 0\n",
    "        while count > 0:\n",
    "            count = count - 1\n",
    "            if len(self.train_data) <= 0:\n",
    "                print(\"exception exit\")\n",
    "                break\n",
    "            index = randint(0,len(self.train_data)-1)\n",
    "            x = self.train_data[index]\n",
    "            y = self.real_result[index]\n",
    "            predict_v,linear_y_v = self.model(x)\n",
    "            if self.loss(y,linear_y_v) > 0:\n",
    "                continue\n",
    "            update_count = update_count + 1\n",
    "            self.update(x,y)\n",
    "        print(\"update count:\",update_count)\n",
    "        pass\n",
    "    def verify(self, verify_data, verify_result):\n",
    "        size = len(verify_data)\n",
    "        failed_count = 0\n",
    "        if size <= 0:\n",
    "            pass\n",
    "        for i in range(size):\n",
    "            x = verify_data[i]\n",
    "            y = verify_result.T[i]\n",
    "            if self.loss(y, self.model(x)[1]) > 0:\n",
    "                continue\n",
    "            failed_count = failed_count + 1\n",
    "        success_rate = (1.0 - (float(failed_count)/size))*100\n",
    "        print(\"Success Rate: \", success_rate, \"%\")\n",
    "        print(\"All input: \", size, \" failed_count: \", failed_count)\n",
    "    def predict(self, predict_data):\n",
    "        size = len(predict_data)\n",
    "        result = []\n",
    "        if size <= 0:\n",
    "            pass\n",
    "        for i in range(size):\n",
    "            x = verify_data[i]\n",
    "            y = verify_result.T[i]\n",
    "            result.append(self.model(x)[0])\n",
    "        return result\n",
    "\n",
    "        \n",
    "            "
   ]
  },
  {
   "cell_type": "code",
   "execution_count": 17,
   "metadata": {},
   "outputs": [
    {
     "ename": "IndexError",
     "evalue": "index 780 is out of bounds for axis 0 with size 1",
     "output_type": "error",
     "traceback": [
      "\u001b[0;31m---------------------------------------------------------------------------\u001b[0m",
      "\u001b[0;31mIndexError\u001b[0m                                Traceback (most recent call last)",
      "\u001b[0;32m<ipython-input-17-44984bcefbcd>\u001b[0m in \u001b[0;36m<module>\u001b[0;34m\u001b[0m\n\u001b[1;32m      9\u001b[0m \u001b[0;31m# First training\u001b[0m\u001b[0;34m\u001b[0m\u001b[0;34m\u001b[0m\u001b[0;34m\u001b[0m\u001b[0m\n\u001b[1;32m     10\u001b[0m \u001b[0mperceptron\u001b[0m \u001b[0;34m=\u001b[0m \u001b[0mPerceptron_hand\u001b[0m\u001b[0;34m(\u001b[0m\u001b[0mtrain_data\u001b[0m\u001b[0;34m,\u001b[0m \u001b[0mresult\u001b[0m\u001b[0;34m)\u001b[0m\u001b[0;34m\u001b[0m\u001b[0;34m\u001b[0m\u001b[0m\n\u001b[0;32m---> 11\u001b[0;31m \u001b[0mperceptron\u001b[0m\u001b[0;34m.\u001b[0m\u001b[0mtrain\u001b[0m\u001b[0;34m(\u001b[0m\u001b[0mtrain_num\u001b[0m\u001b[0;34m)\u001b[0m\u001b[0;34m\u001b[0m\u001b[0;34m\u001b[0m\u001b[0m\n\u001b[0m\u001b[1;32m     12\u001b[0m \u001b[0mperceptron\u001b[0m\u001b[0;34m.\u001b[0m\u001b[0mverify\u001b[0m\u001b[0;34m(\u001b[0m\u001b[0mtest_data\u001b[0m\u001b[0;34m,\u001b[0m \u001b[0mtest_real_result\u001b[0m\u001b[0;34m)\u001b[0m\u001b[0;34m\u001b[0m\u001b[0;34m\u001b[0m\u001b[0m\n\u001b[1;32m     13\u001b[0m \u001b[0mprint\u001b[0m\u001b[0;34m(\u001b[0m\u001b[0;34m\"T1: w:\"\u001b[0m\u001b[0;34m,\u001b[0m \u001b[0mperceptron\u001b[0m\u001b[0;34m.\u001b[0m\u001b[0mw\u001b[0m\u001b[0;34m,\u001b[0m\u001b[0;34m\" b:\"\u001b[0m\u001b[0;34m,\u001b[0m \u001b[0mperceptron\u001b[0m\u001b[0;34m.\u001b[0m\u001b[0mb\u001b[0m\u001b[0;34m)\u001b[0m\u001b[0;34m\u001b[0m\u001b[0;34m\u001b[0m\u001b[0m\n",
      "\u001b[0;32m<ipython-input-15-9dcf2b47fe62>\u001b[0m in \u001b[0;36mtrain\u001b[0;34m(self, count)\u001b[0m\n\u001b[1;32m     29\u001b[0m             \u001b[0mindex\u001b[0m \u001b[0;34m=\u001b[0m \u001b[0mrandint\u001b[0m\u001b[0;34m(\u001b[0m\u001b[0;36m0\u001b[0m\u001b[0;34m,\u001b[0m\u001b[0mlen\u001b[0m\u001b[0;34m(\u001b[0m\u001b[0mself\u001b[0m\u001b[0;34m.\u001b[0m\u001b[0mtrain_data\u001b[0m\u001b[0;34m)\u001b[0m\u001b[0;34m-\u001b[0m\u001b[0;36m1\u001b[0m\u001b[0;34m)\u001b[0m\u001b[0;34m\u001b[0m\u001b[0;34m\u001b[0m\u001b[0m\n\u001b[1;32m     30\u001b[0m             \u001b[0mx\u001b[0m \u001b[0;34m=\u001b[0m \u001b[0mself\u001b[0m\u001b[0;34m.\u001b[0m\u001b[0mtrain_data\u001b[0m\u001b[0;34m[\u001b[0m\u001b[0mindex\u001b[0m\u001b[0;34m]\u001b[0m\u001b[0;34m\u001b[0m\u001b[0;34m\u001b[0m\u001b[0m\n\u001b[0;32m---> 31\u001b[0;31m             \u001b[0my\u001b[0m \u001b[0;34m=\u001b[0m \u001b[0mself\u001b[0m\u001b[0;34m.\u001b[0m\u001b[0mreal_result\u001b[0m\u001b[0;34m[\u001b[0m\u001b[0mindex\u001b[0m\u001b[0;34m]\u001b[0m\u001b[0;34m\u001b[0m\u001b[0;34m\u001b[0m\u001b[0m\n\u001b[0m\u001b[1;32m     32\u001b[0m             \u001b[0mpredict_v\u001b[0m\u001b[0;34m,\u001b[0m\u001b[0mlinear_y_v\u001b[0m \u001b[0;34m=\u001b[0m \u001b[0mself\u001b[0m\u001b[0;34m.\u001b[0m\u001b[0mmodel\u001b[0m\u001b[0;34m(\u001b[0m\u001b[0mx\u001b[0m\u001b[0;34m)\u001b[0m\u001b[0;34m\u001b[0m\u001b[0;34m\u001b[0m\u001b[0m\n\u001b[1;32m     33\u001b[0m             \u001b[0;32mif\u001b[0m \u001b[0mself\u001b[0m\u001b[0;34m.\u001b[0m\u001b[0mloss\u001b[0m\u001b[0;34m(\u001b[0m\u001b[0my\u001b[0m\u001b[0;34m,\u001b[0m\u001b[0mlinear_y_v\u001b[0m\u001b[0;34m)\u001b[0m \u001b[0;34m>\u001b[0m \u001b[0;36m0\u001b[0m\u001b[0;34m:\u001b[0m\u001b[0;34m\u001b[0m\u001b[0;34m\u001b[0m\u001b[0m\n",
      "\u001b[0;32m~/anaconda3/envs/ml_env/lib/python3.6/site-packages/numpy/matrixlib/defmatrix.py\u001b[0m in \u001b[0;36m__getitem__\u001b[0;34m(self, index)\u001b[0m\n\u001b[1;32m    193\u001b[0m \u001b[0;34m\u001b[0m\u001b[0m\n\u001b[1;32m    194\u001b[0m         \u001b[0;32mtry\u001b[0m\u001b[0;34m:\u001b[0m\u001b[0;34m\u001b[0m\u001b[0;34m\u001b[0m\u001b[0m\n\u001b[0;32m--> 195\u001b[0;31m             \u001b[0mout\u001b[0m \u001b[0;34m=\u001b[0m \u001b[0mN\u001b[0m\u001b[0;34m.\u001b[0m\u001b[0mndarray\u001b[0m\u001b[0;34m.\u001b[0m\u001b[0m__getitem__\u001b[0m\u001b[0;34m(\u001b[0m\u001b[0mself\u001b[0m\u001b[0;34m,\u001b[0m \u001b[0mindex\u001b[0m\u001b[0;34m)\u001b[0m\u001b[0;34m\u001b[0m\u001b[0;34m\u001b[0m\u001b[0m\n\u001b[0m\u001b[1;32m    196\u001b[0m         \u001b[0;32mfinally\u001b[0m\u001b[0;34m:\u001b[0m\u001b[0;34m\u001b[0m\u001b[0;34m\u001b[0m\u001b[0m\n\u001b[1;32m    197\u001b[0m             \u001b[0mself\u001b[0m\u001b[0;34m.\u001b[0m\u001b[0m_getitem\u001b[0m \u001b[0;34m=\u001b[0m \u001b[0;32mFalse\u001b[0m\u001b[0;34m\u001b[0m\u001b[0;34m\u001b[0m\u001b[0m\n",
      "\u001b[0;31mIndexError\u001b[0m: index 780 is out of bounds for axis 0 with size 1"
     ]
    }
   ],
   "source": [
    "# gradient = 2\n",
    "# offset   = 10\n",
    "# point_num = 1000\n",
    "# train_num = 50000\n",
    "# loader = TrainDataLoader()\n",
    "# x, y, result, train_data =  loader.GenerateRandomData(point_num, gradient, offset)\n",
    "# x_t, y_t, test_real_result, test_data =  loader.GenerateRandomData(100, gradient, offset)\n",
    "\n",
    "# # First training\n",
    "# perceptron = Perceptron_hand(train_data, result)\n",
    "# perceptron.train(train_num)\n",
    "# perceptron.verify(test_data, test_real_result)\n",
    "# print(\"T1: w:\", perceptron.w,\" b:\", perceptron.b)\n",
    "\n",
    "# # Draw the figure\n",
    "# # 1. draw the (x,y) points\n",
    "# plt.plot(x, y, \"*\", color='gray')\n",
    "# plt.plot(x_t, y_t, \"+\")\n",
    "# # 2. draw y=gradient*x+offset line\n",
    "# plt.plot(x,x.dot(gradient)+offset, color=\"red\")\n",
    "# # 3. draw the line w_1*x_1 + w_2*x_2 + b = 0\n",
    "# plt.plot(x, -(x.dot(float(perceptron.w.T[0]))+float(perceptron.b))/float(perceptron.w.T[1])\n",
    "#          , color='green')\n",
    "# plt.show()\n"
   ]
  }
 ],
 "metadata": {
  "kernelspec": {
   "display_name": "Python [conda env:ml_env] *",
   "language": "python",
   "name": "conda-env-ml_env-py"
  },
  "language_info": {
   "codemirror_mode": {
    "name": "ipython",
    "version": 3
   },
   "file_extension": ".py",
   "mimetype": "text/x-python",
   "name": "python",
   "nbconvert_exporter": "python",
   "pygments_lexer": "ipython3",
   "version": "3.6.9"
  }
 },
 "nbformat": 4,
 "nbformat_minor": 2
}
