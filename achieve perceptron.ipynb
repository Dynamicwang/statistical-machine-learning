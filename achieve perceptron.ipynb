{
 "cells": [
  {
   "cell_type": "code",
   "execution_count": 9,
   "metadata": {},
   "outputs": [],
   "source": [
    "from random import randint\n",
    "import numpy as np\n",
    "import matplotlib.pyplot as plt"
   ]
  },
  {
   "cell_type": "code",
   "execution_count": 10,
   "metadata": {},
   "outputs": [],
   "source": [
    "# 对于感知机的实现，首先，需要知道算法本身的原理和流程。\n",
    "# 首先假设输入为(x1,y1),...,(xn,yn)\n",
    "# 选定的分类模型为f(x)=sign(wx+b)\n",
    "# sign(x):当x >= 0时，sign(x)=1。当x < 1时，sign(x)=-1\n",
    "# 利用提供的训练数据对该模型进行训练，最终得到合适的w，b\n",
    "\n",
    "# 具体的训练步骤:\n",
    "# (1)选定w，b的初值，在这里可以随意设置，令w=0向量，b=0\n",
    "# (2)在训练集中随机的选取一个点(xi，yi)\n",
    "# (3)如果yi*(w*xi + b) <= 0 此时需要更新w，b(这里的xi不要用函数的思维理解为就是x，例如y = 1-x这条直线将所有的数据点分为两部分，则此时的\n",
    "# xi=(x，y)，而yi是我们人为的附加分类结果不能与模型中的y混淆)(为什么<=0就要更新参数呢?分析来看仍以y=1-x来举例，假定此时的分割线为y=1-x，\n",
    "# 所以此时的w=(1，1)，b=-1。将数据分为两部分在直线上方的为正类yi=1，在直线下方的为负类yi=-1。所以此时来考虑，yi*(w*xi+b)当正类分类正确\n",
    "# 则yi=1，w*xi+b>0，所以上式>0;当负类分类正确，yi=-1，w*xi+b<0;所以上式>0。但当负类被分为正类，yi=-1，w*xi+b>0，所以上式<0;当正类被\n",
    "# 分为负类，yi=1，w*x+b < 0，所以上式<0;至于等于0，则说明点在直线上。)\n",
    "# w与b的更新采用梯度下降的方法:\n",
    "# 谈到梯度下降就要说到损失函数的问题:损失函数:minL(w，b) = - sum(yi*(w*xi + b))\n",
    "# 随机选取一个误分类点，对w，b更新，w = w - (-xi*yi)*a   b = b - (-yi*a)\n",
    "# (4)再重复第三步，直到所有的yi*(w*xi+b)>0。\n"
   ]
  },
  {
   "cell_type": "code",
   "execution_count": 11,
   "metadata": {},
   "outputs": [],
   "source": [
    "class TrainDataLoader:\n",
    "    def __init__(self):\n",
    "        pass\n",
    "    \n",
    "    def GenerateRandomData(self,count,gradient):\n",
    "        x1 = np.linspace(1,5,count)\n",
    "        x2 = gradient*x1 + np.random.randint(-10,10,*x1.shape)\n",
    "        t1 = np.linspace(10,15,count)\n",
    "        t2 = gradient*t1 + np.random.randint(-10,10,*t1.shape)\n",
    "        \n",
    "        dataset = []\n",
    "        y = []\n",
    "        for i in range(*x1.shape):\n",
    "            dataset.append([x1[i],x2[i]])\n",
    "            y.append(-1)\n",
    "        for i in range(*t1.shape):\n",
    "            dataset.append([t1[i],t2[i]])\n",
    "            y.append(1)\n",
    "            \n",
    "        return np.mat(y),np.mat(dataset)"
   ]
  },
  {
   "cell_type": "code",
   "execution_count": 84,
   "metadata": {},
   "outputs": [],
   "source": [
    "train_data = TrainDataLoader()\n",
    "result,train_data = train_data.GenerateRandomData(10,2)"
   ]
  },
  {
   "cell_type": "code",
   "execution_count": null,
   "metadata": {},
   "outputs": [],
   "source": []
  },
  {
   "cell_type": "code",
   "execution_count": 85,
   "metadata": {},
   "outputs": [
    {
     "data": {
      "text/plain": [
       "<matplotlib.collections.PathCollection at 0x7f2d4371c0f0>"
      ]
     },
     "execution_count": 85,
     "metadata": {},
     "output_type": "execute_result"
    },
    {
     "data": {
      "image/png": "[encoded data removed]",
      "text/plain": [
       "<Figure size 432x288 with 1 Axes>"
      ]
     },
     "metadata": {
      "needs_background": "light"
     },
     "output_type": "display_data"
    }
   ],
   "source": [
    "plt.scatter(np.array(train_data)[:,0],np.array(train_data)[:,1])"
   ]
  },
  {
   "cell_type": "code",
   "execution_count": null,
   "metadata": {},
   "outputs": [],
   "source": []
  },
  {
   "cell_type": "code",
   "execution_count": null,
   "metadata": {},
   "outputs": [],
   "source": []
  },
  {
   "cell_type": "code",
   "execution_count": null,
   "metadata": {},
   "outputs": [],
   "source": []
  },
  {
   "cell_type": "code",
   "execution_count": 6,
   "metadata": {},
   "outputs": [
    {
     "data": {
      "text/plain": [
       "2"
      ]
     },
     "execution_count": 6,
     "metadata": {},
     "output_type": "execute_result"
    }
   ],
   "source": [
    "len(train_data.T)"
   ]
  },
  {
   "cell_type": "code",
   "execution_count": 86,
   "metadata": {},
   "outputs": [],
   "source": [
    "class Perceptron_hand:\n",
    "    def __init__(self,train_data=[],real_result=[],learn_rate=1):\n",
    "        self.w = np.zeros([1,len(train_data.T)],int)\n",
    "        self.b = 0\n",
    "        self.learn_rate = learn_rate\n",
    "        self.train_data = train_data\n",
    "        self.real_result = real_result\n",
    "    #选取随机的点\n",
    "    def get_random_point(self):\n",
    "        i = 0\n",
    "        while True:\n",
    "            index = np.random.randint(0,len(self.train_data))\n",
    "            yi = np.array(self.real_result)[0][index]\n",
    "            if yi*(np.dot(self.train_data[index],self.w.T)+self.b) <= 0:\n",
    "                i += 0\n",
    "                break\n",
    "            else:\n",
    "                if i == len(self.train_data.T):\n",
    "                    break;\n",
    "        return self.train_data[index],yi\n",
    "    #利用模型判断随机点\n",
    "    def update(self,point,yi):\n",
    "        self.w = self.w + self.learn_rate * point * yi \n",
    "        self.b = self.b + self.learn_rate * yi\n",
    "    \n",
    "    #重复以上的步骤\n",
    "    def fit(self,times):\n",
    "        for i in range(times):\n",
    "            point,yi = self.get_random_point()\n",
    "            self.update(point,yi)\n",
    "        return np.array(self.w),np.array(self.b)\n",
    "        \n",
    "            "
   ]
  },
  {
   "cell_type": "code",
   "execution_count": 109,
   "metadata": {},
   "outputs": [
    {
     "data": {
      "text/plain": [
       "[<matplotlib.lines.Line2D at 0x7f2d41a6eda0>]"
      ]
     },
     "execution_count": 109,
     "metadata": {},
     "output_type": "execute_result"
    },
    {
     "data": {
      "image/png": "[encoded data removed]",
      "text/plain": [
       "<Figure size 432x288 with 1 Axes>"
      ]
     },
     "metadata": {
      "needs_background": "light"
     },
     "output_type": "display_data"
    }
   ],
   "source": [
    "p = Perceptron_hand(train_data,result)\n",
    "w,b = p.fit(10)\n",
    "plt.scatter(np.array(train_data)[:,0],np.array(train_data)[:,1])\n",
    "x = np.linspace(0,20,50)\n",
    "y = (-w[:,0]/w[:,1])*x - (b/w[:,1])\n",
    "plt.plot(x,y.T)"
   ]
  },
  {
   "cell_type": "code",
   "execution_count": null,
   "metadata": {},
   "outputs": [],
   "source": [
    "# gradient = 2\n",
    "# offset   = 10\n",
    "# point_num = 1000\n",
    "# train_num = 50000\n",
    "# loader = TrainDataLoader()\n",
    "# x, y, result, train_data =  loader.GenerateRandomData(point_num, gradient, offset)\n",
    "# x_t, y_t, test_real_result, test_data =  loader.GenerateRandomData(100, gradient, offset)\n",
    "\n",
    "# # First training\n",
    "# perceptron = Perceptron_hand(train_data, result)\n",
    "# perceptron.train(train_num)\n",
    "# perceptron.verify(test_data, test_real_result)\n",
    "# print(\"T1: w:\", perceptron.w,\" b:\", perceptron.b)\n",
    "\n",
    "# # Draw the figure\n",
    "# # 1. draw the (x,y) points\n",
    "# plt.plot(x, y, \"*\", color='gray')\n",
    "# plt.plot(x_t, y_t, \"+\")\n",
    "# # 2. draw y=gradient*x+offset line\n",
    "# plt.plot(x,x.dot(gradient)+offset, color=\"red\")\n",
    "# # 3. draw the line w_1*x_1 + w_2*x_2 + b = 0\n",
    "# plt.plot(x, -(x.dot(float(perceptron.w.T[0]))+float(perceptron.b))/float(perceptron.w.T[1])\n",
    "#          , color='green')\n",
    "# plt.show()\n"
   ]
  }
 ],
 "metadata": {
  "kernelspec": {
   "display_name": "Python [conda env:ml_env] *",
   "language": "python",
   "name": "conda-env-ml_env-py"
  },
  "language_info": {
   "codemirror_mode": {
    "name": "ipython",
    "version": 3
   },
   "file_extension": ".py",
   "mimetype": "text/x-python",
   "name": "python",
   "nbconvert_exporter": "python",
   "pygments_lexer": "ipython3",
   "version": "3.6.9"
  }
 },
 "nbformat": 4,
 "nbformat_minor": 2
}
